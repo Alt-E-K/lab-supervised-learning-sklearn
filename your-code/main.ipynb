{
 "cells": [
  {
   "cell_type": "markdown",
   "metadata": {},
   "source": [
    "# Before your start:\n",
    "- Read the README.md file\n",
    "- Comment as much as you can and use the resources in the README.md file\n",
    "- Happy learning!"
   ]
  },
  {
   "cell_type": "code",
   "execution_count": null,
   "metadata": {},
   "outputs": [],
   "source": [
    "# Libraries\n",
    "import pandas as pd\n",
    "import matplotlib.pyplot as plt\n",
    "import numpy as np"
   ]
  },
  {
   "cell_type": "markdown",
   "metadata": {},
   "source": [
    "# Challenge 1 - Explore the Scikit-Learn Datasets\n",
    "\n",
    "Before starting to work on our own datasets, let's first explore the datasets that are included in this Python library. These datasets have been cleaned and formatted for use in ML algorithms."
   ]
  },
  {
   "cell_type": "markdown",
   "metadata": {},
   "source": [
    "First, we will load the diabetes dataset. Do this in the cell below by importing the datasets and then loading the dataset  to the `diabetes` variable using the `load_diabetes()` function ([documentation](https://scikit-learn.org/stable/modules/generated/sklearn.datasets.load_diabetes.html))."
   ]
  },
  {
   "cell_type": "code",
   "execution_count": null,
   "metadata": {},
   "outputs": [],
   "source": [
    "# your code here\n",
    "from sklearn.datasets import load_diabetes\n",
    "diabetes =  load_diabetes(as_frame=True)\n",
    "diabetes"
   ]
  },
  {
   "cell_type": "code",
   "execution_count": null,
   "metadata": {},
   "outputs": [],
   "source": [
    "#diabetes_df = diabetes\n",
    "diabetes\n",
    "diabetes_df = diabetes['frame']"
   ]
  },
  {
   "cell_type": "markdown",
   "metadata": {},
   "source": [
    "Let's explore this variable by looking at the different attributes (keys) of `diabetes`. Note that the `load_diabetes` function does not return dataframes. It returns you a Python dictionary."
   ]
  },
  {
   "cell_type": "code",
   "execution_count": null,
   "metadata": {},
   "outputs": [],
   "source": [
    "diabetes_df"
   ]
  },
  {
   "cell_type": "markdown",
   "metadata": {},
   "source": [
    "#### The next step is to read the description of the dataset. \n",
    "\n",
    "Print the description in the cell below using the `DESCR` attribute of the `diabetes` variable. Read the data description carefully to fully understand what each column represents.\n",
    "\n",
    "*Hint: If your output is ill-formatted by displaying linebreaks as `\\n`, it means you are not using the `print` function.*"
   ]
  },
  {
   "cell_type": "code",
   "execution_count": null,
   "metadata": {
    "scrolled": false
   },
   "outputs": [],
   "source": [
    "diabetes.DESCR"
   ]
  },
  {
   "cell_type": "markdown",
   "metadata": {},
   "source": [
    "#### Based on the data description, answer the following questions:\n",
    "\n",
    "1. How many attributes are there in the data? What do they mean?\n",
    "\n",
    "1. What is the relation between `diabetes['data']` and `diabetes['target']`?\n",
    "\n",
    "1. How many records are there in the data?"
   ]
  },
  {
   "cell_type": "markdown",
   "metadata": {},
   "source": [
    "1. There are 5 attributes,  age,sex, body mass index, avg blood preassure and 6 iterations of blood serum. We will use to try to predict diabetes progession after baseline.\n",
    "\n",
    "2. Data has all the attributes, the independent variables, the X. Th target is the y, what we are trying to predict.\n",
    "\n",
    "3. 422\n"
   ]
  },
  {
   "cell_type": "markdown",
   "metadata": {},
   "source": [
    "#### Now explore what are contained in the *data* portion as well as the *target* portion of `diabetes`. \n",
    "\n",
    "Scikit-learn typically takes in 2D numpy arrays as input (though pandas dataframes are also accepted). Inspect the shape of `data` and `target`. Confirm they are consistent with the data description."
   ]
  },
  {
   "cell_type": "code",
   "execution_count": null,
   "metadata": {},
   "outputs": [],
   "source": [
    "diabetes['target']"
   ]
  },
  {
   "cell_type": "markdown",
   "metadata": {},
   "source": [
    "# Challenge 2 - Perform Supervised Learning on the Dataset"
   ]
  },
  {
   "cell_type": "markdown",
   "metadata": {},
   "source": [
    "The data have already been split to predictor (*data*) and response (*target*) variables. Given this information, we'll apply what we have previously learned about linear regression and apply the algorithm to the diabetes dataset.\n",
    "\n",
    "#### Let's briefly revisit the linear regression formula:\n",
    "\n",
    "\n",
    "$y = \\beta_0 + \\beta_1·X_1 + \\beta_2·X_2 + ... + \\beta_n·X_n + \\epsilon$\n",
    "\n",
    "\n",
    "where:\n",
    "\n",
    "- $X_1-X_n$: data \n",
    "- $\\beta_0$: intercept \n",
    "- $\\beta_1-\\beta_n$: coefficients \n",
    "- $\\epsilon$: error (cannot explained by model)\n",
    "- $y$: target\n",
    "\n",
    "Also take a look at the `sklearn.linear_model.LinearRegression` [documentation](https://scikit-learn.org/stable/modules/generated/sklearn.linear_model.LinearRegression.html).\n",
    "\n",
    "#### In the cell below, import the `linear_model` class from `sklearn`. "
   ]
  },
  {
   "cell_type": "code",
   "execution_count": null,
   "metadata": {},
   "outputs": [],
   "source": [
    "from sklearn.linear_model import LinearRegression\n",
    "X = diabetes['data']\n",
    "y = diabetes['target']"
   ]
  },
  {
   "cell_type": "markdown",
   "metadata": {},
   "source": [
    "#### Create a new instance of the linear regression model and assign the new instance to the variable `diabetes_model`."
   ]
  },
  {
   "cell_type": "code",
   "execution_count": null,
   "metadata": {},
   "outputs": [],
   "source": [
    "diabetes_model = LinearRegression()"
   ]
  },
  {
   "cell_type": "markdown",
   "metadata": {},
   "source": [
    "#### Next, let's split the training and test data.\n",
    "\n",
    "Define `diabetes_data_train`, `diabetes_target_train`, `diabetes_data_test`, and `diabetes_target_test`. Use the last 20 records for the test data and the rest for the training data."
   ]
  },
  {
   "cell_type": "code",
   "execution_count": null,
   "metadata": {},
   "outputs": [],
   "source": [
    "# your code here\n",
    "#from sklearn.model_selection import train_test_split\n",
    "X_train_set = X[0:422]\n",
    "X_test_set = X[422:441]\n",
    "y_train_set = y[0:422]\n",
    "y_test_set  = y[422:441]"
   ]
  },
  {
   "cell_type": "markdown",
   "metadata": {},
   "source": [
    "Fit the training data and target to `diabetes_model`. Print the *intercept* and *coefficients* of the model."
   ]
  },
  {
   "cell_type": "code",
   "execution_count": null,
   "metadata": {},
   "outputs": [],
   "source": [
    "diabetes_model.fit(X_train_set,y_train_set)"
   ]
  },
  {
   "cell_type": "code",
   "execution_count": null,
   "metadata": {},
   "outputs": [],
   "source": [
    "diabetes_model.intercept_"
   ]
  },
  {
   "cell_type": "code",
   "execution_count": null,
   "metadata": {},
   "outputs": [],
   "source": [
    "diabetes_model.coef_"
   ]
  },
  {
   "cell_type": "markdown",
   "metadata": {},
   "source": [
    "#### Inspecting the results\n",
    "\n",
    "From the outputs you should have seen:\n",
    "\n",
    "- The intercept is a float number.\n",
    "- The coefficients are an array containing 10 float numbers.\n",
    "\n",
    "This is the linear regression model fitted to your training dataset.\n",
    "\n",
    "#### Using your fitted linear regression model, predict the *y* of `diabetes_data_test`."
   ]
  },
  {
   "cell_type": "code",
   "execution_count": null,
   "metadata": {},
   "outputs": [],
   "source": [
    "predictions_test = diabetes_model.predict(X_test_set)"
   ]
  },
  {
   "cell_type": "markdown",
   "metadata": {},
   "source": [
    "#### Print your `diabetes_target_test` and compare with the prediction. "
   ]
  },
  {
   "cell_type": "code",
   "execution_count": null,
   "metadata": {},
   "outputs": [],
   "source": [
    "comparison_df = pd.DataFrame({'truth':y_test_set, 'pred':predictions_test})"
   ]
  },
  {
   "cell_type": "code",
   "execution_count": null,
   "metadata": {},
   "outputs": [],
   "source": [
    "comparison_df"
   ]
  },
  {
   "cell_type": "markdown",
   "metadata": {},
   "source": [
    "#### Is `diabetes_target_test` exactly the same as the model prediction? Explain."
   ]
  },
  {
   "cell_type": "markdown",
   "metadata": {},
   "source": [
    "It is not exactly, most cases not even close or similar. This means the model has a lot of flaws, probably over-fitting, or simply that a linear regression is not the ideal model for this data relation."
   ]
  },
  {
   "cell_type": "markdown",
   "metadata": {},
   "source": [
    "# Bonus Challenge 1 - Hypothesis Testing with `statsmodels`\n",
    "\n",
    "After generating the linear regression model from the dataset, you probably wonder: then what? What is the statistical way to know if my model is reliable or not?\n",
    "\n",
    "Good question. We'll discuss that using Scikit-Learn in Challenge 5. But for now, let's use a fool-proof way by using the ([Linear Regression class of StatsModels](https://www.statsmodels.org/dev/regression.html)) which can also conduct linear regression analysis plus much more such as calcuating the F-score of the linear model as well as the standard errors and t-scores for each coefficient. The F-score and t-scores will tell you whether you can trust your linear model.\n",
    "\n",
    "To understand the statistical meaning of conducting hypothesis testing (e.g. F-test, t-test) for slopes, read [this webpage](https://online.stat.psu.edu/stat501/lesson/6/6.4) at your leisure time. We'll give you a brief overview next.\n",
    "\n",
    "* The F-test of your linear model is to verify whether at least one of your coefficients is significantly different from zero. Translating that into the *null hypothesis* and *alternative hypothesis*, that is:\n",
    "\n",
    "    $H_0 : \\beta_1 = \\beta_2 = ... = \\beta_{10} = 0$\n",
    "\n",
    "    $H_a$ : At least one $\\beta_j \\ne 0$ (for j = 1, 2, ..., 10)\n",
    "    \n",
    "    \n",
    "* The t-tests on each coefficient is to check whether the confidence interval for the variable contains zero. If the confidence interval contains zero, it means the null hypothesis for that variable is not rejected. In other words, this particular vaiable is not contributing to your linear model and you can remove it from your formula.\n",
    "\n",
    "Read the documentations of [StatsModels Linear Regression](https://www.statsmodels.org/dev/regression.html) as well as its [`OLS` class](https://www.statsmodels.org/dev/generated/statsmodels.regression.linear_model.OLS.html) which stands for *ordinary least squares*.\n",
    "\n",
    "#### In the next cell, analyze `diabetes_data_train` and `diabetes_target_train` with the linear regression model of `statsmodels`. Print the fit summary.\n",
    "\n",
    "Your output should look like:\n",
    "\n",
    "<div style=\"text-align:center\"><img src=\"../images/statsmodels.png\" width=600/></div>"
   ]
  },
  {
   "cell_type": "code",
   "execution_count": null,
   "metadata": {},
   "outputs": [],
   "source": [
    "# your code here"
   ]
  },
  {
   "cell_type": "markdown",
   "metadata": {},
   "source": [
    "#### Interpreting hypothesis testing results\n",
    "\n",
    "Answer the following questions in the cell below:\n",
    "\n",
    "1. What is the F-score of your linear model and is the null hypothesis rejected?\n",
    "\n",
    "1. Does any of the t-tests of the coefficients produce a confidence interval containing zero? What are they?\n",
    "\n",
    "1. How will you modify your linear reguression model according to the test results above?"
   ]
  },
  {
   "cell_type": "code",
   "execution_count": null,
   "metadata": {},
   "outputs": [],
   "source": [
    "# your answer here"
   ]
  },
  {
   "cell_type": "markdown",
   "metadata": {},
   "source": [
    "# Challenge 3 - Peform Supervised Learning on a Pandas Dataframe"
   ]
  },
  {
   "cell_type": "markdown",
   "metadata": {},
   "source": [
    "Now that we have dealt with data that has been formatted for scikit-learn, let's look at data that we will need to format ourselves.\n",
    "\n",
    "In the next cell, load the `auto-mpg.csv` file included in this folder and assign it to a variable called `auto`."
   ]
  },
  {
   "cell_type": "code",
   "execution_count": null,
   "metadata": {},
   "outputs": [],
   "source": [
    "path = r'C:\\Users\\Usuario\\Desktop\\gits\\lab-supervised-learning-sklearn\\data'\n",
    "auto = pd.read_csv(path+'/'+'auto-mpg.csv')"
   ]
  },
  {
   "cell_type": "markdown",
   "metadata": {},
   "source": [
    "Look at the first 5 rows using the `head()` function:"
   ]
  },
  {
   "cell_type": "code",
   "execution_count": null,
   "metadata": {},
   "outputs": [],
   "source": [
    "auto.head(5)"
   ]
  },
  {
   "cell_type": "markdown",
   "metadata": {},
   "source": [
    "Evaluate the data to ensure that all numeric columns are correctly detected as such by pandas. If a column is misclassified as object, coerce it to numeric."
   ]
  },
  {
   "cell_type": "code",
   "execution_count": null,
   "metadata": {},
   "outputs": [],
   "source": [
    "auto.dtypes"
   ]
  },
  {
   "cell_type": "markdown",
   "metadata": {},
   "source": [
    "What is the newest model year and the oldest model year?"
   ]
  },
  {
   "cell_type": "code",
   "execution_count": null,
   "metadata": {},
   "outputs": [],
   "source": [
    "auto.model_year.max()"
   ]
  },
  {
   "cell_type": "code",
   "execution_count": null,
   "metadata": {},
   "outputs": [],
   "source": [
    "auto.model_year.min()"
   ]
  },
  {
   "cell_type": "markdown",
   "metadata": {},
   "source": [
    "The newest is from '82 and the oldest from '70"
   ]
  },
  {
   "cell_type": "markdown",
   "metadata": {},
   "source": [
    "Check the dataset for missing values and remove all rows containing at least one missing value."
   ]
  },
  {
   "cell_type": "code",
   "execution_count": null,
   "metadata": {},
   "outputs": [],
   "source": [
    "auto.info()"
   ]
  },
  {
   "cell_type": "code",
   "execution_count": null,
   "metadata": {},
   "outputs": [],
   "source": [
    "auto = auto.dropna()"
   ]
  },
  {
   "cell_type": "markdown",
   "metadata": {},
   "source": [
    "Find the frequency table for the `cylinders` column using the `value_counts()` function. How many possible values of cylinders are there?"
   ]
  },
  {
   "cell_type": "code",
   "execution_count": null,
   "metadata": {},
   "outputs": [],
   "source": [
    "auto.cylinders.value_counts()"
   ]
  },
  {
   "cell_type": "markdown",
   "metadata": {},
   "source": [
    "We would like to generate a linear regression model that will predict mpg. To do this, first drop the `car_name` column since it does not contain any quantitative data. Next separate the dataframe to predictor and response variables. Separate those into test and training data with 80% of the data in the training set and the remainder in the test set. \n",
    "\n",
    "Assign the predictor and response training data to `X_train` and `y_train` respectively. Similarly, assign the predictor and response test data to `X_test` and `y_test`.\n",
    "\n",
    "*Hint: To separate data for training and test, use the `train_test_split` method we used in previous labs.*"
   ]
  },
  {
   "cell_type": "code",
   "execution_count": null,
   "metadata": {},
   "outputs": [],
   "source": [
    "auto.drop(['car_name'],axis = 1, inplace=True)"
   ]
  },
  {
   "cell_type": "code",
   "execution_count": null,
   "metadata": {},
   "outputs": [],
   "source": [
    "from sklearn.model_selection import train_test_split\n",
    "train_set, test_set = train_test_split(auto, test_size=0.2, random_state=123)"
   ]
  },
  {
   "cell_type": "code",
   "execution_count": null,
   "metadata": {},
   "outputs": [],
   "source": [
    "X_train=train_set.drop(['mpg'], axis = 1)\n",
    "X_test=test_set.drop(['mpg'], axis = 1)\n",
    "y_train=train_set.mpg\n",
    "y_test=test_set.mpg"
   ]
  },
  {
   "cell_type": "code",
   "execution_count": null,
   "metadata": {},
   "outputs": [],
   "source": [
    "X_train"
   ]
  },
  {
   "cell_type": "markdown",
   "metadata": {},
   "source": [
    "Now we will processed and peform linear regression on this data to predict the mpg for each vehicle. \n",
    "\n",
    "#### In the next cell, create an instance of the linear regression model and call it `auto_model`. Fit `auto_model` with your training data."
   ]
  },
  {
   "cell_type": "code",
   "execution_count": null,
   "metadata": {},
   "outputs": [],
   "source": [
    "auto_model = LinearRegression()\n",
    "auto_model.fit(X_train,y_train)"
   ]
  },
  {
   "cell_type": "markdown",
   "metadata": {},
   "source": [
    "\n",
    "# Challenge 4 - Evaluate the Model\n",
    "\n",
    "In addition to evaluating your model with F-test and t-test, you can also use the *Coefficient of Determination* (a.k.a. *r squared score*). This method does not simply tell *yes* or *no* about the model fit but instead indicates how much variation can be explained by the model. Based on the r squared score, you can decide whether to improve your model in order to obtain a better fit.\n",
    "\n",
    "You can learn about the r squared score [here](https://en.wikipedia.org/wiki/Coefficient_of_determination). Its formula is:\n",
    "\n",
    "<div style=\"text-align:center\"><img src=\"../images/r-squared.png\" width=300/></div>\n",
    "\n",
    "where:\n",
    "\n",
    "* yi is an actual data point.\n",
    "* ŷi is the corresponding data point on the estimated regression line.\n",
    "\n",
    "By adding the squares of the difference between all yi-ŷi pairs, we have a measure called SSE (*error sum of squares*) which is an application of the r squared score to indicate the extent to which the estimated regression model is different from the actual data. And we attribute that difference to the random error that is unavoidable in the real world. Obviously, we want the SSE value to be as small as possible.\n",
    "\n",
    "#### In the next cell, compute the predicted *y* based on `X_train` and call it `y_pred`. Then calcualte the r squared score between `y_pred` and `y_train` which indicates how well the estimated regression model fits the training data.\n",
    "\n",
    "*Hint: r squared score can be calculated using `sklearn.metrics.r2_score` ([documentation](https://scikit-learn.org/stable/modules/generated/sklearn.metrics.r2_score.html)).*"
   ]
  },
  {
   "cell_type": "code",
   "execution_count": null,
   "metadata": {},
   "outputs": [],
   "source": [
    "# your code here\n",
    "y_pred = auto_model.predict(X_train)\n",
    "from sklearn.metrics import r2_score"
   ]
  },
  {
   "cell_type": "code",
   "execution_count": null,
   "metadata": {},
   "outputs": [],
   "source": [
    "r2_score(y_train,y_pred)"
   ]
  },
  {
   "cell_type": "markdown",
   "metadata": {},
   "source": [
    "#### Our next step is to evaluate the model using the test data. \n",
    "\n",
    "We would like to ensure that our model is not overfitting the data. This means that our model was made to fit too closely to the training data by being overly complex. If a model is overfitted, it is not generalizable to data outside the training data. In that case, we need to reduce the complexity of the model by removing certain features (variables).\n",
    "\n",
    "In the cell below, use the model to generate the predicted values for the test data and assign them to `y_test_pred`. Compute the r squared score of the predicted `y_test_pred` and the oberserved `y_test` data."
   ]
  },
  {
   "cell_type": "code",
   "execution_count": null,
   "metadata": {},
   "outputs": [],
   "source": [
    "y_test_pred = auto_model.predict(X_test)\n",
    "r2_score(y_test,y_test_pred)                             "
   ]
  },
  {
   "cell_type": "markdown",
   "metadata": {},
   "source": [
    "#### Explaining the results\n",
    "\n",
    "Please, compare the results for the training and test sets and comment. What can you say?"
   ]
  },
  {
   "cell_type": "markdown",
   "metadata": {},
   "source": [
    "The fit is a bit worse for testing data than for the training model so yes, there is a bit of overfit."
   ]
  },
  {
   "cell_type": "markdown",
   "metadata": {},
   "source": [
    "# Challenge 5 - Improve the Model Fit\n",
    "\n",
    "While the most common way to improve the fit of a model is by using [regularization](https://datanice.github.io/machine-learning-101-what-is-regularization-interactive.html), there are other simpler ways to improve model fit. The first is to create a simpler model. The second is to increase the train sample size.\n",
    "\n",
    "Let us start with the easier option and increase our train sample size to 90% of the data. Create a new test train split and name the new predictors and response variables `X_train09`, `X_test09`, `y_train09`, `y_test09`."
   ]
  },
  {
   "cell_type": "code",
   "execution_count": null,
   "metadata": {},
   "outputs": [],
   "source": [
    "train_set2, test_set2 = train_test_split(auto, test_size=0.1, random_state=123)"
   ]
  },
  {
   "cell_type": "code",
   "execution_count": null,
   "metadata": {},
   "outputs": [],
   "source": [
    "X_train90 = train_set2.drop(['mpg'], axis = 1)\n",
    "X_test90 = test_set2.drop(['mpg'], axis = 1)"
   ]
  },
  {
   "cell_type": "code",
   "execution_count": null,
   "metadata": {},
   "outputs": [],
   "source": [
    "y_train90 = train_set2.mpg\n",
    "y_test90 = test_set2.mpg"
   ]
  },
  {
   "cell_type": "markdown",
   "metadata": {},
   "source": [
    "Initialize a new linear regression model. Name this model `auto_model09`. Fit the model to the new sample (training) data."
   ]
  },
  {
   "cell_type": "code",
   "execution_count": null,
   "metadata": {},
   "outputs": [],
   "source": [
    "auto_model90 = LinearRegression()\n",
    "auto_model90.fit(X_train90,y_train90)"
   ]
  },
  {
   "cell_type": "markdown",
   "metadata": {},
   "source": [
    "Compute the predicted values and r squared score for our new model and new sample data."
   ]
  },
  {
   "cell_type": "code",
   "execution_count": null,
   "metadata": {},
   "outputs": [],
   "source": [
    "predicted_y90=auto_model90.predict(X_train90)\n",
    "r2_score(y_train90,predicted_y90)                             "
   ]
  },
  {
   "cell_type": "markdown",
   "metadata": {},
   "source": [
    "Compute the r squared score for the smaller test set. Is there an improvement in the test r squared?"
   ]
  },
  {
   "cell_type": "code",
   "execution_count": null,
   "metadata": {},
   "outputs": [],
   "source": [
    "predicted_y90_test=auto_model90.predict(X_test90)\n",
    "r2_score(y_test90,predicted_y90_test)"
   ]
  },
  {
   "cell_type": "markdown",
   "metadata": {},
   "source": [
    "Yes, there is an improvement"
   ]
  },
  {
   "cell_type": "markdown",
   "metadata": {},
   "source": [
    "# Decision Trees"
   ]
  },
  {
   "cell_type": "code",
   "execution_count": 142,
   "metadata": {},
   "outputs": [],
   "source": [
    "from sklearn.tree import DecisionTreeRegressor\n",
    "auto_tree = DecisionTreeRegressor()"
   ]
  },
  {
   "cell_type": "code",
   "execution_count": 143,
   "metadata": {},
   "outputs": [
    {
     "data": {
      "text/plain": [
       "DecisionTreeRegressor()"
      ]
     },
     "execution_count": 143,
     "metadata": {},
     "output_type": "execute_result"
    }
   ],
   "source": [
    "auto_tree.fit(X_train,y_train)\n"
   ]
  },
  {
   "cell_type": "code",
   "execution_count": 144,
   "metadata": {},
   "outputs": [
    {
     "data": {
      "text/plain": [
       "0.734207964791957"
      ]
     },
     "execution_count": 144,
     "metadata": {},
     "output_type": "execute_result"
    }
   ],
   "source": [
    "predictions_test = auto_tree.predict(X_test)\n",
    "r2_score(y_test,predictions_test)    "
   ]
  },
  {
   "cell_type": "code",
   "execution_count": 145,
   "metadata": {},
   "outputs": [],
   "source": [
    "fn = list(X_train.columns)"
   ]
  },
  {
   "cell_type": "code",
   "execution_count": null,
   "metadata": {},
   "outputs": [],
   "source": []
  },
  {
   "cell_type": "code",
   "execution_count": null,
   "metadata": {},
   "outputs": [],
   "source": [
    "from sklearn import tree\n",
    "tree.export_graphviz(auto_tree,\n",
    "                     out_file=\"tree.dot\",\n",
    "                     feature_names = fn,\n",
    "                     filled = True)\n"
   ]
  },
  {
   "cell_type": "code",
   "execution_count": null,
   "metadata": {},
   "outputs": [],
   "source": [
    "!dot -Tpng tree.dot -o tree.png"
   ]
  },
  {
   "cell_type": "code",
   "execution_count": null,
   "metadata": {},
   "outputs": [],
   "source": []
  },
  {
   "cell_type": "code",
   "execution_count": 55,
   "metadata": {},
   "outputs": [],
   "source": [
    "imporved_auto_tree=DecisionTreeRegressor(min_samples_split=28, max_leaf_nodes=3000)"
   ]
  },
  {
   "cell_type": "code",
   "execution_count": 56,
   "metadata": {},
   "outputs": [
    {
     "data": {
      "text/plain": [
       "DecisionTreeRegressor(max_leaf_nodes=3000, min_samples_split=28)"
      ]
     },
     "execution_count": 56,
     "metadata": {},
     "output_type": "execute_result"
    }
   ],
   "source": [
    "imporved_auto_tree.fit(X_train,y_train)\n"
   ]
  },
  {
   "cell_type": "code",
   "execution_count": 57,
   "metadata": {},
   "outputs": [
    {
     "data": {
      "text/plain": [
       "0.8127928746712572"
      ]
     },
     "execution_count": 57,
     "metadata": {},
     "output_type": "execute_result"
    }
   ],
   "source": [
    "predictions_test_imp = imporved_auto_tree.predict(X_test)\n",
    "r2_score(y_test,predictions_test_imp)    "
   ]
  },
  {
   "cell_type": "code",
   "execution_count": 58,
   "metadata": {},
   "outputs": [],
   "source": [
    "from sklearn.model_selection import RandomizedSearchCV"
   ]
  },
  {
   "cell_type": "code",
   "execution_count": 66,
   "metadata": {},
   "outputs": [],
   "source": [
    "param_distributions = {'criterion':['mse', 'friedman_mse', 'mae'],\n",
    "                       'min_samples_split':range(2,50),\n",
    "                     'max_depth':range(3,80)}"
   ]
  },
  {
   "cell_type": "code",
   "execution_count": 67,
   "metadata": {},
   "outputs": [],
   "source": [
    "dtree_randsearch = RandomizedSearchCV(estimator=imporved_auto_tree,\n",
    "                                      param_distributions=param_distributions,\n",
    "                                      n_iter=125,\n",
    "                                      scoring=\"r2\",\n",
    "                                      cv=6\n",
    "                                     )"
   ]
  },
  {
   "cell_type": "code",
   "execution_count": 68,
   "metadata": {},
   "outputs": [
    {
     "data": {
      "text/plain": [
       "RandomizedSearchCV(cv=6,\n",
       "                   estimator=DecisionTreeRegressor(max_leaf_nodes=3000,\n",
       "                                                   min_samples_split=28),\n",
       "                   n_iter=125,\n",
       "                   param_distributions={'criterion': ['mse', 'friedman_mse',\n",
       "                                                      'mae'],\n",
       "                                        'max_depth': range(3, 80),\n",
       "                                        'min_samples_split': range(2, 50)},\n",
       "                   scoring='r2')"
      ]
     },
     "execution_count": 68,
     "metadata": {},
     "output_type": "execute_result"
    }
   ],
   "source": [
    "dtree_randsearch.fit (X_train,y_train)"
   ]
  },
  {
   "cell_type": "code",
   "execution_count": 69,
   "metadata": {},
   "outputs": [],
   "source": [
    "cvres = dtree_randsearch.cv_results_\n",
    "listed = list(zip(cvres[\"mean_test_score\"], cvres[\"params\"]))"
   ]
  },
  {
   "cell_type": "code",
   "execution_count": 71,
   "metadata": {},
   "outputs": [
    {
     "data": {
      "text/plain": [
       "[(0.7786804399628177,\n",
       "  {'min_samples_split': 40, 'max_depth': 37, 'criterion': 'friedman_mse'}),\n",
       " (0.8045803324380354,\n",
       "  {'min_samples_split': 14, 'max_depth': 42, 'criterion': 'mse'}),\n",
       " (0.8066594976728975,\n",
       "  {'min_samples_split': 18, 'max_depth': 72, 'criterion': 'mse'}),\n",
       " (0.8155163730785399,\n",
       "  {'min_samples_split': 26, 'max_depth': 67, 'criterion': 'friedman_mse'}),\n",
       " (0.8155163730785399,\n",
       "  {'min_samples_split': 26, 'max_depth': 19, 'criterion': 'mse'}),\n",
       " (0.8033254649247894,\n",
       "  {'min_samples_split': 30, 'max_depth': 24, 'criterion': 'friedman_mse'}),\n",
       " (0.8155163730785399,\n",
       "  {'min_samples_split': 26, 'max_depth': 45, 'criterion': 'friedman_mse'}),\n",
       " (0.8022082217068384,\n",
       "  {'min_samples_split': 24, 'max_depth': 29, 'criterion': 'friedman_mse'}),\n",
       " (0.7976091397017329,\n",
       "  {'min_samples_split': 12, 'max_depth': 28, 'criterion': 'mae'}),\n",
       " (0.7903622711528605,\n",
       "  {'min_samples_split': 7, 'max_depth': 58, 'criterion': 'friedman_mse'}),\n",
       " (0.7964566880278601,\n",
       "  {'min_samples_split': 34, 'max_depth': 31, 'criterion': 'friedman_mse'}),\n",
       " (0.8006563379065469,\n",
       "  {'min_samples_split': 19, 'max_depth': 12, 'criterion': 'mse'}),\n",
       " (0.8095455391429219,\n",
       "  {'min_samples_split': 17, 'max_depth': 48, 'criterion': 'mse'}),\n",
       " (0.7964241361206188,\n",
       "  {'min_samples_split': 35, 'max_depth': 47, 'criterion': 'mse'}),\n",
       " (0.7881975480894813,\n",
       "  {'min_samples_split': 3, 'max_depth': 37, 'criterion': 'mse'}),\n",
       " (0.8031359600723528,\n",
       "  {'min_samples_split': 33, 'max_depth': 35, 'criterion': 'mae'}),\n",
       " (0.7870498257744493,\n",
       "  {'min_samples_split': 38, 'max_depth': 75, 'criterion': 'friedman_mse'}),\n",
       " (0.7968509204550532,\n",
       "  {'min_samples_split': 34, 'max_depth': 42, 'criterion': 'mae'}),\n",
       " (0.7887214741493979,\n",
       "  {'min_samples_split': 35, 'max_depth': 76, 'criterion': 'friedman_mse'}),\n",
       " (0.7620358574796988,\n",
       "  {'min_samples_split': 6, 'max_depth': 75, 'criterion': 'mae'}),\n",
       " (0.8043314562437827,\n",
       "  {'min_samples_split': 39, 'max_depth': 50, 'criterion': 'mae'}),\n",
       " (0.7781270252814046,\n",
       "  {'min_samples_split': 41, 'max_depth': 53, 'criterion': 'friedman_mse'}),\n",
       " (0.7786569026201199,\n",
       "  {'min_samples_split': 48, 'max_depth': 31, 'criterion': 'mse'}),\n",
       " (0.8155163730785399,\n",
       "  {'min_samples_split': 26, 'max_depth': 21, 'criterion': 'mse'}),\n",
       " (0.8393410744929205,\n",
       "  {'min_samples_split': 23, 'max_depth': 55, 'criterion': 'mae'}),\n",
       " (0.8009831312394787,\n",
       "  {'min_samples_split': 17, 'max_depth': 67, 'criterion': 'friedman_mse'}),\n",
       " (0.8088035010854641,\n",
       "  {'min_samples_split': 20, 'max_depth': 13, 'criterion': 'mse'}),\n",
       " (0.7956037396733149,\n",
       "  {'min_samples_split': 22, 'max_depth': 45, 'criterion': 'mse'}),\n",
       " (0.7973792730287305,\n",
       "  {'min_samples_split': 10, 'max_depth': 79, 'criterion': 'friedman_mse'}),\n",
       " (0.7964566880278601,\n",
       "  {'min_samples_split': 33, 'max_depth': 52, 'criterion': 'mse'}),\n",
       " (0.8057263747120715,\n",
       "  {'min_samples_split': 9, 'max_depth': 51, 'criterion': 'mae'}),\n",
       " (0.7928778638750368,\n",
       "  {'min_samples_split': 6, 'max_depth': 50, 'criterion': 'mse'}),\n",
       " (0.7945342201048399,\n",
       "  {'min_samples_split': 7, 'max_depth': 4, 'criterion': 'mse'}),\n",
       " (0.7887214741493979,\n",
       "  {'min_samples_split': 35, 'max_depth': 31, 'criterion': 'friedman_mse'}),\n",
       " (0.8298625528934065,\n",
       "  {'min_samples_split': 31, 'max_depth': 67, 'criterion': 'mae'}),\n",
       " (0.7763340169839809,\n",
       "  {'min_samples_split': 2, 'max_depth': 24, 'criterion': 'mse'}),\n",
       " (0.8109298183297927,\n",
       "  {'min_samples_split': 17, 'max_depth': 4, 'criterion': 'mae'}),\n",
       " (0.7900970907580774,\n",
       "  {'min_samples_split': 8, 'max_depth': 11, 'criterion': 'mse'}),\n",
       " (0.8007361847401926,\n",
       "  {'min_samples_split': 29, 'max_depth': 4, 'criterion': 'mae'}),\n",
       " (0.7869995517948127,\n",
       "  {'min_samples_split': 4, 'max_depth': 40, 'criterion': 'friedman_mse'}),\n",
       " (0.7964566880278601,\n",
       "  {'min_samples_split': 34, 'max_depth': 46, 'criterion': 'mse'}),\n",
       " (0.7863595645913407,\n",
       "  {'min_samples_split': 48, 'max_depth': 68, 'criterion': 'friedman_mse'}),\n",
       " (0.8097516627177798,\n",
       "  {'min_samples_split': 20, 'max_depth': 27, 'criterion': 'friedman_mse'}),\n",
       " (0.8038509862290099,\n",
       "  {'min_samples_split': 16, 'max_depth': 67, 'criterion': 'mse'}),\n",
       " (0.8155163730785399,\n",
       "  {'min_samples_split': 26, 'max_depth': 68, 'criterion': 'mse'}),\n",
       " (0.8078137111073191,\n",
       "  {'min_samples_split': 26, 'max_depth': 77, 'criterion': 'mse'}),\n",
       " (0.77677573502844,\n",
       "  {'min_samples_split': 43, 'max_depth': 53, 'criterion': 'mse'}),\n",
       " (0.79095507094909,\n",
       "  {'min_samples_split': 7, 'max_depth': 49, 'criterion': 'mse'}),\n",
       " (0.8015120475469176,\n",
       "  {'min_samples_split': 44, 'max_depth': 67, 'criterion': 'mae'}),\n",
       " (0.7918396948994332,\n",
       "  {'min_samples_split': 38, 'max_depth': 29, 'criterion': 'mae'}),\n",
       " (0.8211612556343839,\n",
       "  {'min_samples_split': 25, 'max_depth': 64, 'criterion': 'mae'}),\n",
       " (0.79811762702807,\n",
       "  {'min_samples_split': 12, 'max_depth': 60, 'criterion': 'friedman_mse'}),\n",
       " (0.7811903892186595,\n",
       "  {'min_samples_split': 4, 'max_depth': 23, 'criterion': 'mae'}),\n",
       " (0.8189122247881592,\n",
       "  {'min_samples_split': 27, 'max_depth': 61, 'criterion': 'mae'}),\n",
       " (0.7887540260566394,\n",
       "  {'min_samples_split': 34, 'max_depth': 30, 'criterion': 'mse'}),\n",
       " (0.7821145431774742,\n",
       "  {'min_samples_split': 25, 'max_depth': 3, 'criterion': 'mae'}),\n",
       " (0.8018101127908235,\n",
       "  {'min_samples_split': 13, 'max_depth': 73, 'criterion': 'friedman_mse'}),\n",
       " (0.7946689063949192,\n",
       "  {'min_samples_split': 3, 'max_depth': 36, 'criterion': 'mse'}),\n",
       " (0.8027072092996898,\n",
       "  {'min_samples_split': 35, 'max_depth': 21, 'criterion': 'mae'}),\n",
       " (0.7973876039162171,\n",
       "  {'min_samples_split': 15, 'max_depth': 14, 'criterion': 'friedman_mse'}),\n",
       " (0.7856763744609786,\n",
       "  {'min_samples_split': 47, 'max_depth': 41, 'criterion': 'mse'}),\n",
       " (0.8107415632357634,\n",
       "  {'min_samples_split': 16, 'max_depth': 51, 'criterion': 'mae'}),\n",
       " (0.786529547330033,\n",
       "  {'min_samples_split': 44, 'max_depth': 55, 'criterion': 'friedman_mse'}),\n",
       " (0.8027974016087286,\n",
       "  {'min_samples_split': 23, 'max_depth': 52, 'criterion': 'friedman_mse'}),\n",
       " (0.784352506096027,\n",
       "  {'min_samples_split': 37, 'max_depth': 4, 'criterion': 'friedman_mse'}),\n",
       " (0.7947735983711635,\n",
       "  {'min_samples_split': 43, 'max_depth': 48, 'criterion': 'mae'}),\n",
       " (0.8238974290356156,\n",
       "  {'min_samples_split': 19, 'max_depth': 43, 'criterion': 'mae'}),\n",
       " (0.7870498257744493,\n",
       "  {'min_samples_split': 38, 'max_depth': 71, 'criterion': 'mse'}),\n",
       " (0.7964566880278601,\n",
       "  {'min_samples_split': 33, 'max_depth': 38, 'criterion': 'friedman_mse'}),\n",
       " (0.8131332743181199,\n",
       "  {'min_samples_split': 14, 'max_depth': 19, 'criterion': 'mae'}),\n",
       " (0.7951791957946309,\n",
       "  {'min_samples_split': 35, 'max_depth': 9, 'criterion': 'mae'}),\n",
       " (0.813395901650216,\n",
       "  {'min_samples_split': 26, 'max_depth': 79, 'criterion': 'mae'}),\n",
       " (0.7909076838062624,\n",
       "  {'min_samples_split': 9, 'max_depth': 34, 'criterion': 'mae'}),\n",
       " (0.7978753882461641,\n",
       "  {'min_samples_split': 6, 'max_depth': 75, 'criterion': 'mse'}),\n",
       " (0.8250187140327466,\n",
       "  {'min_samples_split': 22, 'max_depth': 74, 'criterion': 'mae'}),\n",
       " (0.8018801579071079,\n",
       "  {'min_samples_split': 13, 'max_depth': 73, 'criterion': 'mae'}),\n",
       " (0.7964241361206188,\n",
       "  {'min_samples_split': 35, 'max_depth': 9, 'criterion': 'mse'}),\n",
       " (0.8067937942162984,\n",
       "  {'min_samples_split': 11, 'max_depth': 45, 'criterion': 'mse'}),\n",
       " (0.781407866725265,\n",
       "  {'min_samples_split': 3, 'max_depth': 74, 'criterion': 'friedman_mse'}),\n",
       " (0.7947735983711635,\n",
       "  {'min_samples_split': 44, 'max_depth': 68, 'criterion': 'mae'}),\n",
       " (0.7898360991740331,\n",
       "  {'min_samples_split': 7, 'max_depth': 12, 'criterion': 'mse'}),\n",
       " (0.7941912428986777,\n",
       "  {'min_samples_split': 35, 'max_depth': 77, 'criterion': 'mae'}),\n",
       " (0.7870498257744493,\n",
       "  {'min_samples_split': 38, 'max_depth': 51, 'criterion': 'mse'}),\n",
       " (0.8002114003082189,\n",
       "  {'min_samples_split': 48, 'max_depth': 67, 'criterion': 'mae'}),\n",
       " (0.8002114003082189,\n",
       "  {'min_samples_split': 48, 'max_depth': 69, 'criterion': 'mae'}),\n",
       " (0.8061716538219491,\n",
       "  {'min_samples_split': 14, 'max_depth': 38, 'criterion': 'mae'}),\n",
       " (0.7958189993037292,\n",
       "  {'min_samples_split': 14, 'max_depth': 10, 'criterion': 'mse'}),\n",
       " (0.8027974016087285,\n",
       "  {'min_samples_split': 23, 'max_depth': 37, 'criterion': 'friedman_mse'}),\n",
       " (0.8000628997694449,\n",
       "  {'min_samples_split': 19, 'max_depth': 8, 'criterion': 'friedman_mse'}),\n",
       " (0.8027974016087285,\n",
       "  {'min_samples_split': 23, 'max_depth': 35, 'criterion': 'friedman_mse'}),\n",
       " (0.80353901209838,\n",
       "  {'min_samples_split': 21, 'max_depth': 51, 'criterion': 'friedman_mse'}),\n",
       " (0.8130940264849197,\n",
       "  {'min_samples_split': 27, 'max_depth': 52, 'criterion': 'friedman_mse'}),\n",
       " (0.8021725156724283,\n",
       "  {'min_samples_split': 46, 'max_depth': 46, 'criterion': 'mae'}),\n",
       " (0.7570118449216543,\n",
       "  {'min_samples_split': 3, 'max_depth': 33, 'criterion': 'mae'}),\n",
       " (0.8022082217068384,\n",
       "  {'min_samples_split': 24, 'max_depth': 61, 'criterion': 'friedman_mse'}),\n",
       " (0.7651740343795869,\n",
       "  {'min_samples_split': 7, 'max_depth': 63, 'criterion': 'mae'}),\n",
       " (0.8130940264849197,\n",
       "  {'min_samples_split': 27, 'max_depth': 64, 'criterion': 'mse'}),\n",
       " (0.7767757350284398,\n",
       "  {'min_samples_split': 43, 'max_depth': 67, 'criterion': 'mse'}),\n",
       " (0.7704243633101838,\n",
       "  {'min_samples_split': 42, 'max_depth': 47, 'criterion': 'mse'}),\n",
       " (0.7893475793226115,\n",
       "  {'min_samples_split': 7, 'max_depth': 69, 'criterion': 'friedman_mse'}),\n",
       " (0.8155163730785399,\n",
       "  {'min_samples_split': 26, 'max_depth': 20, 'criterion': 'mse'}),\n",
       " (0.7863595645913407,\n",
       "  {'min_samples_split': 48, 'max_depth': 31, 'criterion': 'friedman_mse'}),\n",
       " (0.8137801011173199,\n",
       "  {'min_samples_split': 17, 'max_depth': 70, 'criterion': 'mae'}),\n",
       " (0.7909655438248852,\n",
       "  {'min_samples_split': 37, 'max_depth': 52, 'criterion': 'friedman_mse'}),\n",
       " (0.7909655438248852,\n",
       "  {'min_samples_split': 37, 'max_depth': 27, 'criterion': 'mse'}),\n",
       " (0.8019285996454087,\n",
       "  {'min_samples_split': 45, 'max_depth': 33, 'criterion': 'mae'}),\n",
       " (0.7866904246985006,\n",
       "  {'min_samples_split': 39, 'max_depth': 12, 'criterion': 'mse'}),\n",
       " (0.801471130844242,\n",
       "  {'min_samples_split': 31, 'max_depth': 72, 'criterion': 'friedman_mse'}),\n",
       " (0.8022082217068384,\n",
       "  {'min_samples_split': 24, 'max_depth': 9, 'criterion': 'friedman_mse'}),\n",
       " (0.7767757350284398,\n",
       "  {'min_samples_split': 43, 'max_depth': 57, 'criterion': 'friedman_mse'}),\n",
       " (0.8043648896448073,\n",
       "  {'min_samples_split': 13, 'max_depth': 77, 'criterion': 'friedman_mse'}),\n",
       " (0.8019285996454087,\n",
       "  {'min_samples_split': 45, 'max_depth': 18, 'criterion': 'mae'}),\n",
       " (0.7840700692700175,\n",
       "  {'min_samples_split': 5, 'max_depth': 19, 'criterion': 'friedman_mse'}),\n",
       " (0.7978076796678012,\n",
       "  {'min_samples_split': 41, 'max_depth': 4, 'criterion': 'mae'}),\n",
       " (0.7955220147931752,\n",
       "  {'min_samples_split': 10, 'max_depth': 62, 'criterion': 'mse'}),\n",
       " (0.7833516938626593,\n",
       "  {'min_samples_split': 4, 'max_depth': 16, 'criterion': 'friedman_mse'}),\n",
       " (0.8097516627177797,\n",
       "  {'min_samples_split': 20, 'max_depth': 52, 'criterion': 'friedman_mse'}),\n",
       " (0.8130940264849197,\n",
       "  {'min_samples_split': 27, 'max_depth': 10, 'criterion': 'mse'}),\n",
       " (0.7781270252814046,\n",
       "  {'min_samples_split': 41, 'max_depth': 75, 'criterion': 'mse'}),\n",
       " (0.8122747740465838,\n",
       "  {'min_samples_split': 12, 'max_depth': 50, 'criterion': 'mae'}),\n",
       " (0.8020490007465589,\n",
       "  {'min_samples_split': 20, 'max_depth': 42, 'criterion': 'friedman_mse'}),\n",
       " (0.801471130844242,\n",
       "  {'min_samples_split': 31, 'max_depth': 73, 'criterion': 'mse'}),\n",
       " (0.7863595645913407,\n",
       "  {'min_samples_split': 49, 'max_depth': 33, 'criterion': 'friedman_mse'}),\n",
       " (0.8053913645136989,\n",
       "  {'min_samples_split': 27, 'max_depth': 79, 'criterion': 'friedman_mse'}),\n",
       " (0.8016636172003452,\n",
       "  {'min_samples_split': 35, 'max_depth': 18, 'criterion': 'mae'})]"
      ]
     },
     "execution_count": 71,
     "metadata": {},
     "output_type": "execute_result"
    }
   ],
   "source": [
    "listed"
   ]
  },
  {
   "cell_type": "code",
   "execution_count": null,
   "metadata": {},
   "outputs": [],
   "source": [
    "{'min_samples_split': 21, 'max_depth': 8, 'criterion': 'mae'}),\n",
    " (0.8328275680828088,\n",
    "   (0.8351619772300616,\n",
    "  {'min_samples_split': 26, 'max_depth': 43, 'criterion': 'mae'}),\n",
    "   {'min_samples_split': 26, 'max_depth': 21, 'criterion': 'mse'}),\n",
    " (0.8393410744929205,"
   ]
  },
  {
   "cell_type": "code",
   "execution_count": 103,
   "metadata": {},
   "outputs": [],
   "source": [
    "imporved_auto_tree3=DecisionTreeRegressor(criterion = 'mse', min_samples_split=28 ,max_depth= 25,\n",
    "                                          max_leaf_nodes=3000)"
   ]
  },
  {
   "cell_type": "code",
   "execution_count": 104,
   "metadata": {},
   "outputs": [
    {
     "data": {
      "text/plain": [
       "DecisionTreeRegressor(max_depth=25, max_leaf_nodes=3000, min_samples_split=28)"
      ]
     },
     "execution_count": 104,
     "metadata": {},
     "output_type": "execute_result"
    }
   ],
   "source": [
    "imporved_auto_tree3.fit(X_train,y_train)\n"
   ]
  },
  {
   "cell_type": "code",
   "execution_count": 105,
   "metadata": {},
   "outputs": [
    {
     "data": {
      "text/plain": [
       "0.8127928746712572"
      ]
     },
     "execution_count": 105,
     "metadata": {},
     "output_type": "execute_result"
    }
   ],
   "source": [
    "predictions_test_imp3 = imporved_auto_tree3.predict(X_test)\n",
    "r2_score(y_test,predictions_test_imp3)    "
   ]
  },
  {
   "cell_type": "code",
   "execution_count": 106,
   "metadata": {},
   "outputs": [
    {
     "data": {
      "text/plain": [
       "DecisionTreeRegressor(max_depth=25, max_leaf_nodes=3000, min_samples_split=28)"
      ]
     },
     "execution_count": 106,
     "metadata": {},
     "output_type": "execute_result"
    }
   ],
   "source": [
    "imporved_auto_tree3.fit(X_train90,y_train90)"
   ]
  },
  {
   "cell_type": "code",
   "execution_count": 107,
   "metadata": {},
   "outputs": [
    {
     "data": {
      "text/plain": [
       "0.8095512343221358"
      ]
     },
     "execution_count": 107,
     "metadata": {},
     "output_type": "execute_result"
    }
   ],
   "source": [
    "predictions_test_imp4 = imporved_auto_tree3.predict(X_test90)\n",
    "r2_score(y_test90,predictions_test_imp4)    "
   ]
  },
  {
   "cell_type": "code",
   "execution_count": 139,
   "metadata": {},
   "outputs": [],
   "source": [
    "imporved_auto_tree4=DecisionTreeRegressor(criterion = 'mse', min_samples_split=28 ,max_depth= 25,\n",
    "                                          max_leaf_nodes=3000, min_impurity_decrease=0.05)"
   ]
  },
  {
   "cell_type": "code",
   "execution_count": 140,
   "metadata": {},
   "outputs": [
    {
     "data": {
      "text/plain": [
       "DecisionTreeRegressor(max_depth=25, max_leaf_nodes=3000,\n",
       "                      min_impurity_decrease=0.05, min_samples_split=28)"
      ]
     },
     "execution_count": 140,
     "metadata": {},
     "output_type": "execute_result"
    }
   ],
   "source": [
    "imporved_auto_tree4.fit(X_train,y_train)\n"
   ]
  },
  {
   "cell_type": "code",
   "execution_count": 141,
   "metadata": {},
   "outputs": [
    {
     "data": {
      "text/plain": [
       "0.811669285219702"
      ]
     },
     "execution_count": 141,
     "metadata": {},
     "output_type": "execute_result"
    }
   ],
   "source": [
    "predictions_test_imp5 = imporved_auto_tree4.predict(X_test)\n",
    "r2_score(y_test,predictions_test_imp5)"
   ]
  },
  {
   "cell_type": "code",
   "execution_count": 146,
   "metadata": {},
   "outputs": [],
   "source": [
    "auto2 = auto.copy()"
   ]
  },
  {
   "cell_type": "code",
   "execution_count": 148,
   "metadata": {},
   "outputs": [],
   "source": [
    "from sklearn.preprocessing import MinMaxScaler\n",
    "scaler = MinMaxScaler()\n",
    "scaler.fit(auto2)\n",
    "auto2_array = scaler.fit_transform(auto2)\n",
    "auto2_df = pd.DataFrame(auto2_array, columns = auto2.columns)"
   ]
  },
  {
   "cell_type": "code",
   "execution_count": 149,
   "metadata": {},
   "outputs": [],
   "source": [
    "train_set3, test_set3 = train_test_split(auto2_df, test_size=0.2, random_state=123)"
   ]
  },
  {
   "cell_type": "code",
   "execution_count": 156,
   "metadata": {},
   "outputs": [],
   "source": [
    "train_X3 = train_set3.drop(['mpg'], axis= 1)\n",
    "test_X3 = test_set3.drop(['mpg'], axis = 1)\n",
    "train_y3 = train_set3.mpg\n",
    "test_y3 = test_set3.mpg"
   ]
  },
  {
   "cell_type": "code",
   "execution_count": 157,
   "metadata": {},
   "outputs": [],
   "source": [
    "imporved_auto_tree4=DecisionTreeRegressor(criterion = 'mse', min_samples_split=28 ,max_depth= 25,\n",
    "                                          max_leaf_nodes=3000, min_impurity_decrease=0.05)"
   ]
  },
  {
   "cell_type": "code",
   "execution_count": 158,
   "metadata": {},
   "outputs": [
    {
     "data": {
      "text/plain": [
       "DecisionTreeRegressor(max_depth=25, max_leaf_nodes=3000,\n",
       "                      min_impurity_decrease=0.05, min_samples_split=28)"
      ]
     },
     "execution_count": 158,
     "metadata": {},
     "output_type": "execute_result"
    }
   ],
   "source": [
    "imporved_auto_tree4.fit(train_X3,train_y3)"
   ]
  },
  {
   "cell_type": "code",
   "execution_count": 159,
   "metadata": {},
   "outputs": [
    {
     "data": {
      "text/plain": [
       "-0.012724578597230307"
      ]
     },
     "execution_count": 159,
     "metadata": {},
     "output_type": "execute_result"
    }
   ],
   "source": [
    "predictions_test_imp5 = imporved_auto_tree4.predict(test_X3)\n",
    "r2_score(test_y3,predictions_test_imp5)    "
   ]
  },
  {
   "cell_type": "markdown",
   "metadata": {},
   "source": [
    "# Bonus Challenge 2 - Backward Elimination \n",
    "\n",
    "The main way to produce a simpler linear regression model is to reduce the number of variables used in the model. In scikit-learn, we can do this by using recursive feature elimination. You can read more about RFE [here](https://scikit-learn.org/stable/modules/generated/sklearn.feature_selection.RFE.html).\n",
    "\n",
    "In the next cell, we will import RFE."
   ]
  },
  {
   "cell_type": "code",
   "execution_count": null,
   "metadata": {},
   "outputs": [],
   "source": [
    "# Libraries\n",
    "from sklearn.feature_selection import RFE"
   ]
  },
  {
   "cell_type": "markdown",
   "metadata": {},
   "source": [
    "Follow the documentation and initialize an RFE model using the `auto_model` linear regression model. Set `n_features_to_select=3`."
   ]
  },
  {
   "cell_type": "code",
   "execution_count": null,
   "metadata": {},
   "outputs": [],
   "source": [
    "# your code here"
   ]
  },
  {
   "cell_type": "markdown",
   "metadata": {},
   "source": [
    "Fit the model and print the ranking."
   ]
  },
  {
   "cell_type": "code",
   "execution_count": null,
   "metadata": {},
   "outputs": [],
   "source": [
    "# your code here"
   ]
  },
  {
   "cell_type": "markdown",
   "metadata": {},
   "source": [
    "Feature importance is ranked from most important (1) to least important (4). Generate a model with the three most important features. The features correspond to variable names. For example, feature 1 is `cylinders` and feature 2 is `displacement`.\n",
    "\n",
    "Perform a test-train split on this reduced column data and call the split data `X_train_reduced`, `X_test_reduced`, `y_test_reduced`, `y_train_reduced`. Use an 80% split."
   ]
  },
  {
   "cell_type": "code",
   "execution_count": null,
   "metadata": {},
   "outputs": [],
   "source": [
    "# your code here"
   ]
  },
  {
   "cell_type": "markdown",
   "metadata": {},
   "source": [
    "Generate a new model called `auto_model_reduced` and fit this model. Then proceed to compute the r squared score for the model. Did this cause an improvement in the r squared score?"
   ]
  },
  {
   "cell_type": "code",
   "execution_count": null,
   "metadata": {},
   "outputs": [],
   "source": [
    "# your code here"
   ]
  },
  {
   "cell_type": "markdown",
   "metadata": {},
   "source": [
    "#### Conclusion\n",
    "\n",
    "You may obtain the impression from this lab that without knowing statistical methods in depth, it is difficult to make major progress in machine learning. That is correct. If you are motivated to become a data scientist, statistics is the subject you must be proficient in and there is no shortcut. \n",
    "\n",
    "Completing these labs is not likely to make you a data scientist. But you will have a good sense about what are there in machine learning and what are good for you. In your future career, you can choose one of the three tracks:\n",
    "\n",
    "* Data scientists who need to be proficient in statistical methods.\n",
    "\n",
    "* Data engineers who need to be good at programming.\n",
    "\n",
    "* Data integration specialists who are business or content experts but also understand data and programming. This cross-disciplinary track brings together data, technology, and business and will be in high demands in the next decade."
   ]
  }
 ],
 "metadata": {
  "kernelspec": {
   "display_name": "Python 3",
   "language": "python",
   "name": "python3"
  }
 },
 "nbformat": 4,
 "nbformat_minor": 2
}
